{
 "cells": [
  {
   "cell_type": "markdown",
   "metadata": {},
   "source": [
    "# Quantization Experiement CaffeNet \n",
    "Simple setup first"
   ]
  },
  {
   "cell_type": "code",
   "execution_count": 11,
   "metadata": {
    "collapsed": false
   },
   "outputs": [
    {
     "name": "stdout",
     "output_type": "stream",
     "text": [
      "Floating point CaffNet starts inference...\n",
      "Batch 0/5: Top-1 Acc: 70.00%, Top-5 Acc: 90.00%\n"
     ]
    }
   ],
   "source": [
    "# global setup \n",
    "import sim_caffenet\n",
    "import numpy as np\n",
    "import matplotlib.pyplot as plt\n",
    "# display plots in this notebook\n",
    "%matplotlib inline\n",
    "\n",
    "# run 2500 images from validation dataset\n",
    "iterations = 5\n",
    "batch_size = 10\n",
    "LMDB_filename = '/media/jingyang/0E3519FE0E3519FE/ilsvrc12_val_lmdb/'\n",
    "\n",
    "# run floating point CaffeNet (ground truth)\n",
    "# so that we can get the range, and ground truth accuracy\n",
    "floating_point_accuracy, floating_point_blobs_range, floating_point_weights_range, \\\n",
    "    floating_point_biases_range, kernels_name = \\\n",
    "    sim_caffenet.sim_floating_point_caffenet(LMDB_filename, batch_size=batch_size, \n",
    "                                             iterations=iterations, verbose=False)"
   ]
  },
  {
   "cell_type": "markdown",
   "metadata": {},
   "source": [
    "## 1. Uniform quantization scheme\n",
    "In this exploration, weights, biases, blobs share the same quantization scheme. We will adopt 2 different quantization schemes: aggressive and conservative respectively."
   ]
  },
  {
   "cell_type": "code",
   "execution_count": 5,
   "metadata": {
    "collapsed": false
   },
   "outputs": [
    {
     "name": "stdout",
     "output_type": "stream",
     "text": [
      "Simulate conservative uniform bit 5...\n",
      "Fixed point CaffeNet starts inference...\n",
      "Batch 0/5: Top-1 Acc: 0.00%, Top-5 Acc: 0.00%\n",
      "Simulate conservative uniform bit 6...\n",
      "Fixed point CaffeNet starts inference...\n",
      "Batch 0/5: Top-1 Acc: 0.00%, Top-5 Acc: 0.00%\n",
      "Simulate aggressive uniform bit 5...\n",
      "Fixed point CaffeNet starts inference...\n",
      "Batch 0/5: Top-1 Acc: 30.00%, Top-5 Acc: 60.00%\n",
      "Simulate aggressive uniform bit 6...\n",
      "Fixed point CaffeNet starts inference...\n",
      "Batch 0/5: Top-1 Acc: 30.00%, Top-5 Acc: 90.00%\n"
     ]
    }
   ],
   "source": [
    "uniform_bit_width = range(5, 7) # 5 - 18\n",
    "\n",
    "# conservative round strategy\n",
    "round_method = 'FLOOR' # round method \n",
    "round_strategy = 'CONSERVATIVE' # round strategy\n",
    "conservative_uniform_accuracy = {}\n",
    "for b in uniform_bit_width:\n",
    "    print 'Simulate conservative uniform bit %d...' % (b,)\n",
    "    bit_width=dict(blobs=b, weights=b, biases=b) # uniform bit width\n",
    "    conservative_uniform_accuracy[b] = sim_caffenet.sim_fixed_point_caffenet(LMDB_filename, bit_width=bit_width, \\\n",
    "                                        blobs_range=floating_point_blobs_range, \\\n",
    "                                         weights_range=floating_point_weights_range, \\\n",
    "                                          biases_range=floating_point_biases_range, batch_size=batch_size, \\\n",
    "                                          iterations=iterations, round_method=round_method, \\\n",
    "                                            round_strategy=round_strategy, verbose=False)\n",
    "    \n",
    "\n",
    "# aggressive round strategy\n",
    "round_method = 'ROUND' # round method \n",
    "round_strategy = 'AGGRESSIVE' # round strategy\n",
    "aggressive_uniform_accuracy = {}\n",
    "for b in uniform_bit_width:\n",
    "    print 'Simulate aggressive uniform bit %d...' % (b,)\n",
    "    bit_width=dict(blobs=b, weights=b, biases=b) # uniform bit width\n",
    "    aggressive_uniform_accuracy[b] = sim_caffenet.sim_fixed_point_caffenet(LMDB_filename, bit_width=bit_width, \\\n",
    "                                        blobs_range=floating_point_blobs_range, \\\n",
    "                                         weights_range=floating_point_weights_range, \\\n",
    "                                          biases_range=floating_point_biases_range, batch_size=batch_size, \\\n",
    "                                          iterations=iterations, round_method=round_method, \\\n",
    "                                            round_strategy=round_strategy, verbose=False)"
   ]
  },
  {
   "cell_type": "markdown",
   "metadata": {},
   "source": [
    "- Plot the diagram Top1 Error Rate and Top5 Error Rate"
   ]
  },
  {
   "cell_type": "code",
   "execution_count": 15,
   "metadata": {
    "collapsed": false
   },
   "outputs": [
    {
     "name": "stdout",
     "output_type": "stream",
     "text": [
      "Ground Truth (floating point): Top1 Acc: 0.660000; Top5 Acc: 0.780000\n"
     ]
    },
    {
     "data": {
      "text/plain": [
       "<matplotlib.legend.Legend at 0x7f8d29997710>"
      ]
     },
     "execution_count": 15,
     "metadata": {},
     "output_type": "execute_result"
    },
    {
     "data": {
      "image/png": "[encoded data removed]",
      "text/plain": [
       "<matplotlib.figure.Figure at 0x7f8d33255bd0>"
      ]
     },
     "metadata": {},
     "output_type": "display_data"
    }
   ],
   "source": [
    "print 'Ground Truth (floating point): Top1 Acc: %f; Top5 Acc: %f' % (floating_point_accuracy[0].mean(), \n",
    "                                                                    floating_point_accuracy[1].mean())\n",
    "plt.figure(figsize=(10, 5))\n",
    "## Top1\n",
    "plt.subplot(1, 2, 1)\n",
    "plt.plot(uniform_bit_width, [conservative_uniform_accuracy[b][0].mean() for b in uniform_bit_width], 'o-',\n",
    "         linewidth=2, label='Conservative Round')\n",
    "plt.plot(uniform_bit_width, [aggressive_uniform_accuracy[b][0].mean() for b in uniform_bit_width], 'x-',\n",
    "        linewidth=2, label='Aggressive Round')\n",
    "plt.title('Top-1 Accuracy with Uniform Fixed Point')\n",
    "plt.xlabel('Bit Width')\n",
    "plt.ylabel('Accuracy')\n",
    "plt.legend(loc='upper center', shadow=True, fontsize='x-large')\n",
    "\n",
    "## Top5\n",
    "plt.subplot(1, 2, 2)\n",
    "plt.plot(uniform_bit_width, [conservative_uniform_accuracy[b][1].mean() for b in uniform_bit_width], 'o-',\n",
    "         linewidth=2, label='Conservative Round')\n",
    "plt.plot(uniform_bit_width, [aggressive_uniform_accuracy[b][1].mean() for b in uniform_bit_width], 'x-',\n",
    "         linewidth=2, label='Aggressive Round')\n",
    "plt.title('Top-5 Accuracy with Uniform Fixed Point')\n",
    "plt.xlabel('Bit Width')\n",
    "plt.ylabel('Accuracy')\n",
    "plt.legend(loc='upper center', shadow=True, fontsize='x-large')"
   ]
  },
  {
   "cell_type": "markdown",
   "metadata": {},
   "source": [
    "## 2. Explore the weights and biases quantization impact\n",
    "The kernels (weights and biases) affect the final storage on the chip."
   ]
  },
  {
   "cell_type": "code",
   "execution_count": 25,
   "metadata": {
    "collapsed": false
   },
   "outputs": [
    {
     "name": "stdout",
     "output_type": "stream",
     "text": [
      "Simulate conservative kernels bit 7 with blob bit 16...\n",
      "Fixed point CaffeNet starts inference...\n",
      "Batch 0/5: Top-1 Acc: 0.00%, Top-5 Acc: 0.00%\n",
      "Simulate conservative kernels bit 8 with blob bit 16...\n",
      "Fixed point CaffeNet starts inference...\n",
      "Batch 0/5: Top-1 Acc: 10.00%, Top-5 Acc: 30.00%\n",
      "Simulate aggressive kernels bit 7 with blob bit 16...\n",
      "Fixed point CaffeNet starts inference...\n",
      "Batch 0/5: Top-1 Acc: 60.00%, Top-5 Acc: 90.00%\n",
      "Batch 1/5: Top-1 Acc: 60.00%, Top-5 Acc: 80.00%\n",
      "Batch 2/5: Top-1 Acc: 80.00%, Top-5 Acc: 90.00%\n",
      "Batch 3/5: Top-1 Acc: 50.00%, Top-5 Acc: 60.00%\n",
      "Batch 4/5: Top-1 Acc: 60.00%, Top-5 Acc: 80.00%\n",
      "Simulate aggressive kernels bit 8 with blob bit 16...\n",
      "Fixed point CaffeNet starts inference...\n",
      "Batch 0/5: Top-1 Acc: 60.00%, Top-5 Acc: 90.00%\n",
      "Batch 1/5: Top-1 Acc: 60.00%, Top-5 Acc: 80.00%\n",
      "Batch 2/5: Top-1 Acc: 60.00%, Top-5 Acc: 90.00%\n",
      "Batch 3/5: Top-1 Acc: 50.00%, Top-5 Acc: 60.00%\n",
      "Batch 4/5: Top-1 Acc: 60.00%, Top-5 Acc: 80.00%\n"
     ]
    }
   ],
   "source": [
    "blobs_bit_width = 16\n",
    "kernels_bit_width = range(7, 9) # 5 ~ 16\n",
    "\n",
    "# conservative round strategy\n",
    "round_method = 'FLOOR' # round method \n",
    "round_strategy = 'CONSERVATIVE' # round strategy\n",
    "conservative_kernels_accuracy = {}\n",
    "for b in kernels_bit_width:\n",
    "    print 'Simulate conservative kernels bit %d with blob bit %d...' % (b, blobs_bit_width)\n",
    "    bit_width=dict(blobs=blobs_bit_width, weights=b, biases=b) # kernel bit width\n",
    "    conservative_kernels_accuracy[b] = sim_caffenet.sim_fixed_point_caffenet(LMDB_filename, bit_width=bit_width, \\\n",
    "                                        blobs_range=floating_point_blobs_range, \\\n",
    "                                         weights_range=floating_point_weights_range, \\\n",
    "                                          biases_range=floating_point_biases_range, batch_size=batch_size, \\\n",
    "                                          iterations=iterations, round_method=round_method, \\\n",
    "                                            round_strategy=round_strategy, verbose=False)\n",
    "    \n",
    "# aggressive round strategy\n",
    "round_method = 'ROUND' # round method \n",
    "round_strategy = 'AGGRESSIVE' # round strategy\n",
    "aggressive_kernels_accuracy = {}\n",
    "for b in kernels_bit_width:\n",
    "    print 'Simulate aggressive kernels bit %d with blob bit %d...' % (b, blobs_bit_width)\n",
    "    bit_width=dict(blobs=blobs_bit_width, weights=b, biases=b) # kernel bit width\n",
    "    aggressive_kernels_accuracy[b] = sim_caffenet.sim_fixed_point_caffenet(LMDB_filename, bit_width=bit_width, \\\n",
    "                                        blobs_range=floating_point_blobs_range, \\\n",
    "                                         weights_range=floating_point_weights_range, \\\n",
    "                                          biases_range=floating_point_biases_range, batch_size=batch_size, \\\n",
    "                                          iterations=iterations, round_method=round_method, \\\n",
    "                                            round_strategy=round_strategy, verbose=False)"
   ]
  },
  {
   "cell_type": "code",
   "execution_count": 26,
   "metadata": {
    "collapsed": false
   },
   "outputs": [
    {
     "name": "stdout",
     "output_type": "stream",
     "text": [
      "Ground Truth (floating point): Top1 Acc: 0.660000; Top5 Acc: 0.780000\n"
     ]
    },
    {
     "data": {
      "text/plain": [
       "<matplotlib.legend.Legend at 0x7f8d290cf3d0>"
      ]
     },
     "execution_count": 26,
     "metadata": {},
     "output_type": "execute_result"
    },
    {
     "data": {
      "image/png": "[encoded data removed]",
      "text/plain": [
       "<matplotlib.figure.Figure at 0x7f8d293c3590>"
      ]
     },
     "metadata": {},
     "output_type": "display_data"
    }
   ],
   "source": [
    "print 'Ground Truth (floating point): Top1 Acc: %f; Top5 Acc: %f' % (floating_point_accuracy[0].mean(), \n",
    "                                                                    floating_point_accuracy[1].mean())\n",
    "plt.figure(figsize=(10, 5))\n",
    "## Top1\n",
    "plt.subplot(1, 2, 1)\n",
    "plt.plot(kernels_bit_width, [conservative_kernels_accuracy[b][0].mean() for b in kernels_bit_width], 'o-',\n",
    "         linewidth=2, label='Conservative Round')\n",
    "plt.plot(kernels_bit_width, [aggressive_kernels_accuracy[b][0].mean() for b in kernels_bit_width], 'x-',\n",
    "        linewidth=2, label='Aggressive Round')\n",
    "plt.title('Top-1 Accuracy with Uniform Fixed Point')\n",
    "plt.xlabel('Bit Width')\n",
    "plt.ylabel('Accuracy')\n",
    "plt.legend(loc='upper center', shadow=True, fontsize='x-large')\n",
    "\n",
    "## Top5\n",
    "plt.subplot(1, 2, 2)\n",
    "plt.plot(kernels_bit_width, [conservative_kernels_accuracy[b][1].mean() for b in kernels_bit_width], 'o-',\n",
    "         linewidth=2, label='Conservative Round')\n",
    "plt.plot(kernels_bit_width, [aggressive_kernels_accuracy[b][1].mean() for b in kernels_bit_width], 'x-',\n",
    "         linewidth=2, label='Aggressive Round')\n",
    "plt.title('Top-5 Accuracy with Uniform Fixed Point')\n",
    "plt.xlabel('Bit Width')\n",
    "plt.ylabel('Accuracy')\n",
    "plt.legend(loc='upper center', shadow=True, fontsize='x-large')"
   ]
  },
  {
   "cell_type": "markdown",
   "metadata": {},
   "source": [
    "## 3. Explore the sensitivity of different layers\n",
    "In this experiement, we will change the kernel width individually. We will see how the final prediction accuracy varies."
   ]
  },
  {
   "cell_type": "code",
   "execution_count": 27,
   "metadata": {
    "collapsed": false
   },
   "outputs": [
    {
     "name": "stdout",
     "output_type": "stream",
     "text": [
      "Simulate conservative kernels[conv1] bit 7 with blob bit 16...\n",
      "{'fc6': 16, 'fc7': 16, 'fc8': 16, 'conv3': 16, 'conv2': 16, 'conv1': 7, 'conv5': 16, 'conv4': 16}\n",
      "Fixed point CaffeNet starts inference...\n",
      "Batch 0/5: Top-1 Acc: 30.00%, Top-5 Acc: 60.00%\n",
      "Simulate conservative kernels[conv1] bit 8 with blob bit 16...\n",
      "{'fc6': 16, 'fc7': 16, 'fc8': 16, 'conv3': 16, 'conv2': 16, 'conv1': 8, 'conv5': 16, 'conv4': 16}\n",
      "Fixed point CaffeNet starts inference...\n",
      "Batch 0/5: Top-1 Acc: 50.00%, Top-5 Acc: 90.00%\n",
      "Simulate conservative kernels[conv2] bit 7 with blob bit 16...\n",
      "{'fc6': 16, 'fc7': 16, 'fc8': 16, 'conv3': 16, 'conv2': 7, 'conv1': 16, 'conv5': 16, 'conv4': 16}\n",
      "Fixed point CaffeNet starts inference...\n",
      "Batch 0/5: Top-1 Acc: 0.00%, Top-5 Acc: 0.00%\n",
      "Simulate conservative kernels[conv2] bit 8 with blob bit 16...\n",
      "{'fc6': 16, 'fc7': 16, 'fc8': 16, 'conv3': 16, 'conv2': 8, 'conv1': 16, 'conv5': 16, 'conv4': 16}\n",
      "Fixed point CaffeNet starts inference...\n",
      "Batch 0/5: Top-1 Acc: 30.00%, Top-5 Acc: 40.00%\n",
      "Simulate conservative kernels[conv3] bit 7 with blob bit 16...\n",
      "{'fc6': 16, 'fc7': 16, 'fc8': 16, 'conv3': 7, 'conv2': 16, 'conv1': 16, 'conv5': 16, 'conv4': 16}\n",
      "Fixed point CaffeNet starts inference...\n",
      "Batch 0/5: Top-1 Acc: 0.00%, Top-5 Acc: 0.00%\n",
      "Simulate conservative kernels[conv3] bit 8 with blob bit 16...\n",
      "{'fc6': 16, 'fc7': 16, 'fc8': 16, 'conv3': 8, 'conv2': 16, 'conv1': 16, 'conv5': 16, 'conv4': 16}\n",
      "Fixed point CaffeNet starts inference...\n",
      "Batch 0/5: Top-1 Acc: 0.00%, Top-5 Acc: 20.00%\n",
      "Simulate conservative kernels[conv4] bit 7 with blob bit 16...\n",
      "{'fc6': 16, 'fc7': 16, 'fc8': 16, 'conv3': 16, 'conv2': 16, 'conv1': 16, 'conv5': 16, 'conv4': 7}\n",
      "Fixed point CaffeNet starts inference...\n",
      "Batch 0/5: Top-1 Acc: 0.00%, Top-5 Acc: 10.00%\n",
      "Simulate conservative kernels[conv4] bit 8 with blob bit 16...\n",
      "{'fc6': 16, 'fc7': 16, 'fc8': 16, 'conv3': 16, 'conv2': 16, 'conv1': 16, 'conv5': 16, 'conv4': 8}\n",
      "Fixed point CaffeNet starts inference...\n",
      "Batch 0/5: Top-1 Acc: 60.00%, Top-5 Acc: 80.00%\n",
      "Simulate conservative kernels[conv5] bit 7 with blob bit 16...\n",
      "{'fc6': 16, 'fc7': 16, 'fc8': 16, 'conv3': 16, 'conv2': 16, 'conv1': 16, 'conv5': 7, 'conv4': 16}\n",
      "Fixed point CaffeNet starts inference...\n",
      "Batch 0/5: Top-1 Acc: 20.00%, Top-5 Acc: 60.00%\n",
      "Simulate conservative kernels[conv5] bit 8 with blob bit 16...\n",
      "{'fc6': 16, 'fc7': 16, 'fc8': 16, 'conv3': 16, 'conv2': 16, 'conv1': 16, 'conv5': 8, 'conv4': 16}\n",
      "Fixed point CaffeNet starts inference...\n",
      "Batch 0/5: Top-1 Acc: 30.00%, Top-5 Acc: 80.00%\n",
      "Simulate conservative kernels[fc6] bit 7 with blob bit 16...\n",
      "{'fc6': 7, 'fc7': 16, 'fc8': 16, 'conv3': 16, 'conv2': 16, 'conv1': 16, 'conv5': 16, 'conv4': 16}\n",
      "Fixed point CaffeNet starts inference...\n",
      "Batch 0/5: Top-1 Acc: 0.00%, Top-5 Acc: 0.00%\n",
      "Simulate conservative kernels[fc6] bit 8 with blob bit 16...\n",
      "{'fc6': 8, 'fc7': 16, 'fc8': 16, 'conv3': 16, 'conv2': 16, 'conv1': 16, 'conv5': 16, 'conv4': 16}\n",
      "Fixed point CaffeNet starts inference...\n",
      "Batch 0/5: Top-1 Acc: 50.00%, Top-5 Acc: 90.00%\n",
      "Simulate conservative kernels[fc7] bit 7 with blob bit 16...\n",
      "{'fc6': 16, 'fc7': 7, 'fc8': 16, 'conv3': 16, 'conv2': 16, 'conv1': 16, 'conv5': 16, 'conv4': 16}\n",
      "Fixed point CaffeNet starts inference...\n",
      "Batch 0/5: Top-1 Acc: 60.00%, Top-5 Acc: 90.00%\n",
      "Simulate conservative kernels[fc7] bit 8 with blob bit 16...\n",
      "{'fc6': 16, 'fc7': 8, 'fc8': 16, 'conv3': 16, 'conv2': 16, 'conv1': 16, 'conv5': 16, 'conv4': 16}\n",
      "Fixed point CaffeNet starts inference...\n",
      "Batch 0/5: Top-1 Acc: 60.00%, Top-5 Acc: 90.00%\n",
      "Simulate conservative kernels[fc8] bit 7 with blob bit 16...\n",
      "{'fc6': 16, 'fc7': 16, 'fc8': 7, 'conv3': 16, 'conv2': 16, 'conv1': 16, 'conv5': 16, 'conv4': 16}\n",
      "Fixed point CaffeNet starts inference...\n",
      "Batch 0/5: Top-1 Acc: 60.00%, Top-5 Acc: 90.00%\n",
      "Simulate conservative kernels[fc8] bit 8 with blob bit 16...\n",
      "{'fc6': 16, 'fc7': 16, 'fc8': 8, 'conv3': 16, 'conv2': 16, 'conv1': 16, 'conv5': 16, 'conv4': 16}\n",
      "Fixed point CaffeNet starts inference...\n",
      "Batch 0/5: Top-1 Acc: 70.00%, Top-5 Acc: 90.00%\n",
      "Simulate aggressive kernels[conv1] bit 7 with blob bit 16...\n",
      "{'fc6': 16, 'fc7': 16, 'fc8': 16, 'conv3': 16, 'conv2': 16, 'conv1': 7, 'conv5': 16, 'conv4': 16}\n",
      "Fixed point CaffeNet starts inference...\n",
      "Batch 0/5: Top-1 Acc: 60.00%, Top-5 Acc: 90.00%\n",
      "Simulate aggressive kernels[conv1] bit 8 with blob bit 16...\n",
      "{'fc6': 16, 'fc7': 16, 'fc8': 16, 'conv3': 16, 'conv2': 16, 'conv1': 8, 'conv5': 16, 'conv4': 16}\n",
      "Fixed point CaffeNet starts inference...\n",
      "Batch 0/5: Top-1 Acc: 60.00%, Top-5 Acc: 90.00%\n",
      "Simulate aggressive kernels[conv2] bit 7 with blob bit 16...\n",
      "{'fc6': 16, 'fc7': 16, 'fc8': 16, 'conv3': 16, 'conv2': 7, 'conv1': 16, 'conv5': 16, 'conv4': 16}\n",
      "Fixed point CaffeNet starts inference...\n",
      "Batch 0/5: Top-1 Acc: 60.00%, Top-5 Acc: 90.00%\n",
      "Simulate aggressive kernels[conv2] bit 8 with blob bit 16...\n",
      "{'fc6': 16, 'fc7': 16, 'fc8': 16, 'conv3': 16, 'conv2': 8, 'conv1': 16, 'conv5': 16, 'conv4': 16}\n",
      "Fixed point CaffeNet starts inference...\n",
      "Batch 0/5: Top-1 Acc: 60.00%, Top-5 Acc: 90.00%\n",
      "Simulate aggressive kernels[conv3] bit 7 with blob bit 16...\n",
      "{'fc6': 16, 'fc7': 16, 'fc8': 16, 'conv3': 7, 'conv2': 16, 'conv1': 16, 'conv5': 16, 'conv4': 16}\n",
      "Fixed point CaffeNet starts inference...\n",
      "Batch 0/5: Top-1 Acc: 60.00%, Top-5 Acc: 90.00%\n",
      "Simulate aggressive kernels[conv3] bit 8 with blob bit 16...\n",
      "{'fc6': 16, 'fc7': 16, 'fc8': 16, 'conv3': 8, 'conv2': 16, 'conv1': 16, 'conv5': 16, 'conv4': 16}\n",
      "Fixed point CaffeNet starts inference...\n",
      "Batch 0/5: Top-1 Acc: 70.00%, Top-5 Acc: 90.00%\n",
      "Simulate aggressive kernels[conv4] bit 7 with blob bit 16...\n",
      "{'fc6': 16, 'fc7': 16, 'fc8': 16, 'conv3': 16, 'conv2': 16, 'conv1': 16, 'conv5': 16, 'conv4': 7}\n",
      "Fixed point CaffeNet starts inference...\n",
      "Batch 0/5: Top-1 Acc: 60.00%, Top-5 Acc: 90.00%\n",
      "Simulate aggressive kernels[conv4] bit 8 with blob bit 16...\n",
      "{'fc6': 16, 'fc7': 16, 'fc8': 16, 'conv3': 16, 'conv2': 16, 'conv1': 16, 'conv5': 16, 'conv4': 8}\n",
      "Fixed point CaffeNet starts inference...\n",
      "Batch 0/5: Top-1 Acc: 60.00%, Top-5 Acc: 90.00%\n",
      "Simulate aggressive kernels[conv5] bit 7 with blob bit 16...\n",
      "{'fc6': 16, 'fc7': 16, 'fc8': 16, 'conv3': 16, 'conv2': 16, 'conv1': 16, 'conv5': 7, 'conv4': 16}\n",
      "Fixed point CaffeNet starts inference...\n",
      "Batch 0/5: Top-1 Acc: 60.00%, Top-5 Acc: 90.00%\n",
      "Simulate aggressive kernels[conv5] bit 8 with blob bit 16...\n",
      "{'fc6': 16, 'fc7': 16, 'fc8': 16, 'conv3': 16, 'conv2': 16, 'conv1': 16, 'conv5': 8, 'conv4': 16}\n",
      "Fixed point CaffeNet starts inference...\n",
      "Batch 0/5: Top-1 Acc: 60.00%, Top-5 Acc: 90.00%\n",
      "Simulate aggressive kernels[fc6] bit 7 with blob bit 16...\n",
      "{'fc6': 7, 'fc7': 16, 'fc8': 16, 'conv3': 16, 'conv2': 16, 'conv1': 16, 'conv5': 16, 'conv4': 16}\n",
      "Fixed point CaffeNet starts inference...\n",
      "Batch 0/5: Top-1 Acc: 60.00%, Top-5 Acc: 90.00%\n",
      "Simulate aggressive kernels[fc6] bit 8 with blob bit 16...\n",
      "{'fc6': 8, 'fc7': 16, 'fc8': 16, 'conv3': 16, 'conv2': 16, 'conv1': 16, 'conv5': 16, 'conv4': 16}\n",
      "Fixed point CaffeNet starts inference...\n",
      "Batch 0/5: Top-1 Acc: 60.00%, Top-5 Acc: 90.00%\n",
      "Simulate aggressive kernels[fc7] bit 7 with blob bit 16...\n",
      "{'fc6': 16, 'fc7': 7, 'fc8': 16, 'conv3': 16, 'conv2': 16, 'conv1': 16, 'conv5': 16, 'conv4': 16}\n",
      "Fixed point CaffeNet starts inference...\n",
      "Batch 0/5: Top-1 Acc: 60.00%, Top-5 Acc: 90.00%\n",
      "Simulate aggressive kernels[fc7] bit 8 with blob bit 16...\n",
      "{'fc6': 16, 'fc7': 8, 'fc8': 16, 'conv3': 16, 'conv2': 16, 'conv1': 16, 'conv5': 16, 'conv4': 16}\n",
      "Fixed point CaffeNet starts inference...\n",
      "Batch 0/5: Top-1 Acc: 60.00%, Top-5 Acc: 90.00%\n",
      "Simulate aggressive kernels[fc8] bit 7 with blob bit 16...\n",
      "{'fc6': 16, 'fc7': 16, 'fc8': 7, 'conv3': 16, 'conv2': 16, 'conv1': 16, 'conv5': 16, 'conv4': 16}\n",
      "Fixed point CaffeNet starts inference...\n",
      "Batch 0/5: Top-1 Acc: 60.00%, Top-5 Acc: 90.00%\n",
      "Simulate aggressive kernels[fc8] bit 8 with blob bit 16...\n",
      "{'fc6': 16, 'fc7': 16, 'fc8': 8, 'conv3': 16, 'conv2': 16, 'conv1': 16, 'conv5': 16, 'conv4': 16}\n",
      "Fixed point CaffeNet starts inference...\n",
      "Batch 0/5: Top-1 Acc: 60.00%, Top-5 Acc: 90.00%\n"
     ]
    }
   ],
   "source": [
    "blobs_bit_width = 16\n",
    "sensitive_kernel_bit_width = range(7, 9) # 5 ~ 16\n",
    "default_kernel_bit_width = 16\n",
    "\n",
    "# default kernel bit width\n",
    "default_kernel = {}\n",
    "for k in kernels_name:\n",
    "    default_kernel[k] = default_kernel_bit_width\n",
    "\n",
    "# conservative round strategy\n",
    "round_method = 'FLOOR' # round method \n",
    "round_strategy = 'CONSERVATIVE' # round strategy\n",
    "conservative_senstive_accuracy = {}\n",
    "for k in kernels_name:\n",
    "    conservative_senstive_accuracy[k] = {}\n",
    "    for b in kernels_bit_width:\n",
    "        print 'Simulate conservative kernels[%s] bit %d with blob bit %d...' % (k, b, blobs_bit_width)\n",
    "        cur_kernel_bit_width = default_kernel.copy()\n",
    "        cur_kernel_bit_width[k] = b\n",
    "        print cur_kernel_bit_width\n",
    "        bit_width=dict(blobs=blobs_bit_width, weights=cur_kernel_bit_width, biases=cur_kernel_bit_width) # kernel bit width\n",
    "        conservative_senstive_accuracy[k][b] = sim_caffenet.sim_fixed_point_caffenet(LMDB_filename, bit_width=bit_width, \\\n",
    "                                            blobs_range=floating_point_blobs_range, \\\n",
    "                                             weights_range=floating_point_weights_range, \\\n",
    "                                              biases_range=floating_point_biases_range, batch_size=batch_size, \\\n",
    "                                              iterations=iterations, round_method=round_method, \\\n",
    "                                                round_strategy=round_strategy, verbose=False)\n",
    "    \n",
    "# aggressive round strategy\n",
    "round_method = 'ROUND' # round method \n",
    "round_strategy = 'AGGRESSIVE' # round strategy\n",
    "aggressive_senstive_accuracy = {}\n",
    "for k in kernels_name:\n",
    "    aggressive_senstive_accuracy[k] = {}\n",
    "    for b in kernels_bit_width:\n",
    "        print 'Simulate aggressive kernels[%s] bit %d with blob bit %d...' % (k, b, blobs_bit_width)\n",
    "        cur_kernel_bit_width = default_kernel.copy()\n",
    "        cur_kernel_bit_width[k] = b\n",
    "        print cur_kernel_bit_width\n",
    "        bit_width=dict(blobs=blobs_bit_width, weights=cur_kernel_bit_width, biases=cur_kernel_bit_width) # kernel bit width\n",
    "        aggressive_senstive_accuracy[k][b] = sim_caffenet.sim_fixed_point_caffenet(LMDB_filename, bit_width=bit_width, \\\n",
    "                                            blobs_range=floating_point_blobs_range, \\\n",
    "                                             weights_range=floating_point_weights_range, \\\n",
    "                                              biases_range=floating_point_biases_range, batch_size=batch_size, \\\n",
    "                                              iterations=iterations, round_method=round_method, \\\n",
    "                                                round_strategy=round_strategy, verbose=False)"
   ]
  },
  {
   "cell_type": "markdown",
   "metadata": {},
   "source": [
    "- Print the accuracy results"
   ]
  },
  {
   "cell_type": "code",
   "execution_count": 28,
   "metadata": {
    "collapsed": false
   },
   "outputs": [
    {
     "name": "stdout",
     "output_type": "stream",
     "text": [
      "Conservative sensitive analysis\n",
      "kernel[fc6] @ bw = 8: top1 = 0.520000; top5 = 0.720000\n",
      "kernel[fc6] @ bw = 7: top1 = 0.100000; top5 = 0.180000\n",
      "kernel[fc7] @ bw = 8: top1 = 0.600000; top5 = 0.780000\n",
      "kernel[fc7] @ bw = 7: top1 = 0.580000; top5 = 0.780000\n",
      "kernel[fc8] @ bw = 8: top1 = 0.660000; top5 = 0.800000\n",
      "kernel[fc8] @ bw = 7: top1 = 0.620000; top5 = 0.800000\n",
      "kernel[conv3] @ bw = 8: top1 = 0.060000; top5 = 0.180000\n",
      "kernel[conv3] @ bw = 7: top1 = 0.000000; top5 = 0.000000\n",
      "kernel[conv2] @ bw = 8: top1 = 0.180000; top5 = 0.380000\n",
      "kernel[conv2] @ bw = 7: top1 = 0.000000; top5 = 0.060000\n",
      "kernel[conv1] @ bw = 8: top1 = 0.400000; top5 = 0.580000\n",
      "kernel[conv1] @ bw = 7: top1 = 0.220000; top5 = 0.340000\n",
      "kernel[conv5] @ bw = 8: top1 = 0.520000; top5 = 0.740000\n",
      "kernel[conv5] @ bw = 7: top1 = 0.360000; top5 = 0.580000\n",
      "kernel[conv4] @ bw = 8: top1 = 0.520000; top5 = 0.700000\n",
      "kernel[conv4] @ bw = 7: top1 = 0.040000; top5 = 0.120000\n",
      "\n",
      "Aggressive sensitive analysis\n",
      "kernel[fc6] @ bw = 8: top1 = 0.640000; top5 = 0.800000\n",
      "kernel[fc6] @ bw = 7: top1 = 0.640000; top5 = 0.800000\n",
      "kernel[fc7] @ bw = 8: top1 = 0.640000; top5 = 0.800000\n",
      "kernel[fc7] @ bw = 7: top1 = 0.640000; top5 = 0.800000\n",
      "kernel[fc8] @ bw = 8: top1 = 0.620000; top5 = 0.800000\n",
      "kernel[fc8] @ bw = 7: top1 = 0.640000; top5 = 0.780000\n",
      "kernel[conv3] @ bw = 8: top1 = 0.640000; top5 = 0.800000\n",
      "kernel[conv3] @ bw = 7: top1 = 0.640000; top5 = 0.800000\n",
      "kernel[conv2] @ bw = 8: top1 = 0.600000; top5 = 0.800000\n",
      "kernel[conv2] @ bw = 7: top1 = 0.600000; top5 = 0.800000\n",
      "kernel[conv1] @ bw = 8: top1 = 0.620000; top5 = 0.800000\n",
      "kernel[conv1] @ bw = 7: top1 = 0.640000; top5 = 0.780000\n",
      "kernel[conv5] @ bw = 8: top1 = 0.620000; top5 = 0.800000\n",
      "kernel[conv5] @ bw = 7: top1 = 0.620000; top5 = 0.800000\n",
      "kernel[conv4] @ bw = 8: top1 = 0.600000; top5 = 0.780000\n",
      "kernel[conv4] @ bw = 7: top1 = 0.620000; top5 = 0.800000\n"
     ]
    }
   ],
   "source": [
    "print 'Conservative sensitive analysis'\n",
    "for k, v in conservative_senstive_accuracy.items():\n",
    "    for bw, acc in v.items():\n",
    "        print 'kernel[%s] @ bw = %d: top1 = %f; top5 = %f' % \\\n",
    "            (k, bw, acc.mean(axis=1)[0], acc.mean(axis=1)[1])\n",
    "\n",
    "print ''            \n",
    "print 'Aggressive sensitive analysis'\n",
    "for k, v in aggressive_senstive_accuracy.items():\n",
    "    for bw, acc in v.items():\n",
    "        print 'kernel[%s] @ bw = %d: top1 = %f; top5 = %f' % \\\n",
    "            (k, bw, acc.mean(axis=1)[0], acc.mean(axis=1)[1])"
   ]
  },
  {
   "cell_type": "code",
   "execution_count": null,
   "metadata": {
    "collapsed": true
   },
   "outputs": [],
   "source": []
  }
 ],
 "metadata": {
  "anaconda-cloud": {},
  "kernelspec": {
   "display_name": "Python [conda root]",
   "language": "python",
   "name": "conda-root-py"
  },
  "language_info": {
   "codemirror_mode": {
    "name": "ipython",
    "version": 2
   },
   "file_extension": ".py",
   "mimetype": "text/x-python",
   "name": "python",
   "nbconvert_exporter": "python",
   "pygments_lexer": "ipython2",
   "version": "2.7.12"
  }
 },
 "nbformat": 4,
 "nbformat_minor": 1
}
